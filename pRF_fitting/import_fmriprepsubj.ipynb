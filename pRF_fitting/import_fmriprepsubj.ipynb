{
 "cells": [
  {
   "cell_type": "code",
   "execution_count": 1,
   "metadata": {
    "pycharm": {
     "name": "#%%\n"
    }
   },
   "outputs": [],
   "source": [
    "import cortex\n",
    "from cortex import fmriprep\n",
    "import os\n",
    "from os import path as op\n",
    "import shutil\n",
    "\n",
    "# Location of the downloaded openfmri dataset\n",
    "project=\"EGRET-AAA\"\n",
    "DERIV_PATH = os.getenv(\"DERIVATIVES\")\n",
    "# fmriprep subject name (without \"sub-\")\n",
    "subject_id = '001'\n",
    "subject=f'sub-{subject_id}'\n"
   ]
  },
  {
   "cell_type": "code",
   "execution_count": 2,
   "metadata": {
    "pycharm": {
     "name": "#%%\n"
    }
   },
   "outputs": [],
   "source": [
    "# export FREESURFER_HOME=/Applications/freesurfer/7.2.0\n",
    "# export SUBJECTS_DIR=/Users/mayra/Library/CloudStorage/OneDrive-UMCG/Postdoc/CFLamUp/derivatives/freesurfer\n",
    "# export FS_LICENSE=/Applications/freesurfer/7.2.0/license.txt\n",
    "# source $FREESURFER_HOME/SetUpFreeSurfer.sh"
   ]
  },
  {
   "cell_type": "code",
   "execution_count": 2,
   "metadata": {},
   "outputs": [
    {
     "name": "stdout",
     "output_type": "stream",
     "text": [
      "Copied sub-001_ses-1_acq-MP2RAGE_desc-preproc_T1w.nii.gz to /data1/projects/dumoulinlab/Lab_members/Mayra/projects/CFLamUp/derivatives/fmriprep/sub-001/anat\n",
      "Copied sub-001_ses-1_acq-MP2RAGE_desc-aseg_dseg.nii.gz to /data1/projects/dumoulinlab/Lab_members/Mayra/projects/CFLamUp/derivatives/fmriprep/sub-001/anat\n",
      "Copied sub-001_ses-1_acq-MP2RAGE_hemi-R_inflated.surf.gii to /data1/projects/dumoulinlab/Lab_members/Mayra/projects/CFLamUp/derivatives/fmriprep/sub-001/anat\n",
      "Copied sub-001_ses-1_acq-MP2RAGE_hemi-R_midthickness.surf.gii to /data1/projects/dumoulinlab/Lab_members/Mayra/projects/CFLamUp/derivatives/fmriprep/sub-001/anat\n",
      "Copied sub-001_ses-1_acq-MP2RAGE_hemi-R_pial.surf.gii to /data1/projects/dumoulinlab/Lab_members/Mayra/projects/CFLamUp/derivatives/fmriprep/sub-001/anat\n",
      "Copied sub-001_ses-1_acq-MP2RAGE_hemi-R_smoothwm.surf.gii to /data1/projects/dumoulinlab/Lab_members/Mayra/projects/CFLamUp/derivatives/fmriprep/sub-001/anat\n",
      "Copied sub-001_ses-1_acq-MP2RAGE_hemi-L_inflated.surf.gii to /data1/projects/dumoulinlab/Lab_members/Mayra/projects/CFLamUp/derivatives/fmriprep/sub-001/anat\n",
      "Copied sub-001_ses-1_acq-MP2RAGE_hemi-L_midthickness.surf.gii to /data1/projects/dumoulinlab/Lab_members/Mayra/projects/CFLamUp/derivatives/fmriprep/sub-001/anat\n",
      "Copied sub-001_ses-1_acq-MP2RAGE_hemi-L_pial.surf.gii to /data1/projects/dumoulinlab/Lab_members/Mayra/projects/CFLamUp/derivatives/fmriprep/sub-001/anat\n",
      "Copied sub-001_ses-1_acq-MP2RAGE_hemi-L_smoothwm.surf.gii to /data1/projects/dumoulinlab/Lab_members/Mayra/projects/CFLamUp/derivatives/fmriprep/sub-001/anat\n",
      "Renamed sub-001_ses-1_acq-MP2RAGE_desc-preproc_T1w.nii.gz to sub-001_desc-preproc_T1w.nii.gz\n",
      "Renamed sub-001_ses-1_acq-MP2RAGE_desc-aseg_dseg.nii.gz to sub-001_desc-aseg_dseg.nii.gz\n",
      "Renamed sub-001_ses-1_acq-MP2RAGE_hemi-R_inflated.surf.gii to sub-001_hemi-R_inflated.surf.gii\n",
      "Renamed sub-001_ses-1_acq-MP2RAGE_hemi-R_midthickness.surf.gii to sub-001_hemi-R_midthickness.surf.gii\n",
      "Renamed sub-001_ses-1_acq-MP2RAGE_hemi-R_pial.surf.gii to sub-001_hemi-R_pial.surf.gii\n",
      "Renamed sub-001_ses-1_acq-MP2RAGE_hemi-R_smoothwm.surf.gii to sub-001_hemi-R_smoothwm.surf.gii\n",
      "Renamed sub-001_ses-1_acq-MP2RAGE_hemi-L_inflated.surf.gii to sub-001_hemi-L_inflated.surf.gii\n",
      "Renamed sub-001_ses-1_acq-MP2RAGE_hemi-L_midthickness.surf.gii to sub-001_hemi-L_midthickness.surf.gii\n",
      "Renamed sub-001_ses-1_acq-MP2RAGE_hemi-L_pial.surf.gii to sub-001_hemi-L_pial.surf.gii\n",
      "Renamed sub-001_ses-1_acq-MP2RAGE_hemi-L_smoothwm.surf.gii to sub-001_hemi-L_smoothwm.surf.gii\n"
     ]
    }
   ],
   "source": [
    "def copy_files(file_list, source_dir, destination_dir):\n",
    "    for file_name in file_list:\n",
    "        source_file = os.path.join(source_dir, file_name)\n",
    "        destination_file = os.path.join(destination_dir, file_name)\n",
    "        shutil.copyfile(source_file, destination_file)\n",
    "        print(f\"Copied {file_name} to {destination_dir}\")\n",
    "\n",
    "\n",
    "suffix='ses-1_acq-MP2RAGE'\n",
    "file_list = [f'{subject}_{suffix}_desc-preproc_T1w.nii.gz', f'{subject}_{suffix}_desc-aseg_dseg.nii.gz', \n",
    "             f'{subject}_{suffix}_hemi-R_inflated.surf.gii',f'{subject}_{suffix}_hemi-R_midthickness.surf.gii',\n",
    "            f'{subject}_{suffix}_hemi-R_pial.surf.gii',f'{subject}_{suffix}_hemi-R_smoothwm.surf.gii',\n",
    "            f'{subject}_{suffix}_hemi-L_inflated.surf.gii',f'{subject}_{suffix}_hemi-L_midthickness.surf.gii',\n",
    "            f'{subject}_{suffix}_hemi-L_pial.surf.gii',f'{subject}_{suffix}_hemi-L_smoothwm.surf.gii']\n",
    "new_file_list = [f'{subject}_desc-preproc_T1w.nii.gz', f'{subject}_desc-aseg_dseg.nii.gz', \n",
    "             f'{subject}_hemi-R_inflated.surf.gii',f'{subject}_hemi-R_midthickness.surf.gii',\n",
    "            f'{subject}_hemi-R_pial.surf.gii',f'{subject}_hemi-R_smoothwm.surf.gii',\n",
    "            f'{subject}_hemi-L_inflated.surf.gii',f'{subject}_hemi-L_midthickness.surf.gii',\n",
    "            f'{subject}_hemi-L_pial.surf.gii',f'{subject}_hemi-L_smoothwm.surf.gii']\n",
    "source_dir = f'{DERIV_PATH}/fmriprep/{subject}/ses-1/anat'\n",
    "temp_dir=f'{DERIV_PATH}/fmriprep/{subject}/anat'\n",
    "os.makedirs(temp_dir, exist_ok=True)\n",
    "\n",
    "copy_files(file_list, source_dir, temp_dir)\n",
    "  \n",
    "for i in range(len(file_list)):\n",
    "    try:\n",
    "        os.rename(os.path.join(temp_dir,file_list[i]), os.path.join(temp_dir,new_file_list[i]))\n",
    "        print(f\"Renamed {file_list[i]} to {new_file_list[i]}\")\n",
    "    except FileNotFoundError:\n",
    "        print(f\"Error: File {file_list[i]} not found.\")\n",
    "    except FileExistsError:\n",
    "        print(f\"Error: File {new_file_list[i]} already exists.\")\n",
    "\n"
   ]
  },
  {
   "cell_type": "code",
   "execution_count": 3,
   "metadata": {
    "pycharm": {
     "name": "#%%\n"
    }
   },
   "outputs": [],
   "source": [
    "# import subject into pycortex database\n",
    "fmriprep.import_subj(subject_id, f'{DERIV_PATH}')"
   ]
  },
  {
   "cell_type": "code",
   "execution_count": 8,
   "metadata": {
    "pycharm": {
     "name": "#%%\n"
    }
   },
   "outputs": [
    {
     "name": "stdout",
     "output_type": "stream",
     "text": [
      "Generating new ctm file...\n",
      "wm\n",
      "wm\n",
      "inflated\n",
      "inflated\n",
      "Started server on port 7620\n"
     ]
    },
    {
     "ename": "KeyboardInterrupt",
     "evalue": "",
     "output_type": "error",
     "traceback": [
      "\u001b[0;31m---------------------------------------------------------------------------\u001b[0m",
      "\u001b[0;31mKeyboardInterrupt\u001b[0m                         Traceback (most recent call last)",
      "Cell \u001b[0;32mIn[8], line 10\u001b[0m\n",
      "File \u001b[0;32m~/.conda/envs/mypy311/lib/python3.11/site-packages/IPython/core/displayhook.py:268\u001b[0m, in \u001b[0;36mDisplayHook.__call__\u001b[0;34m(self, result)\u001b[0m\n\u001b[1;32m    266\u001b[0m \u001b[38;5;28mself\u001b[39m\u001b[38;5;241m.\u001b[39mstart_displayhook()\n\u001b[1;32m    267\u001b[0m \u001b[38;5;28mself\u001b[39m\u001b[38;5;241m.\u001b[39mwrite_output_prompt()\n\u001b[0;32m--> 268\u001b[0m format_dict, md_dict \u001b[38;5;241m=\u001b[39m \u001b[38;5;28;43mself\u001b[39;49m\u001b[38;5;241;43m.\u001b[39;49m\u001b[43mcompute_format_data\u001b[49m\u001b[43m(\u001b[49m\u001b[43mresult\u001b[49m\u001b[43m)\u001b[49m\n\u001b[1;32m    269\u001b[0m \u001b[38;5;28mself\u001b[39m\u001b[38;5;241m.\u001b[39mupdate_user_ns(result)\n\u001b[1;32m    270\u001b[0m \u001b[38;5;28mself\u001b[39m\u001b[38;5;241m.\u001b[39mfill_exec_result(result)\n",
      "File \u001b[0;32m~/.conda/envs/mypy311/lib/python3.11/site-packages/IPython/core/displayhook.py:157\u001b[0m, in \u001b[0;36mDisplayHook.compute_format_data\u001b[0;34m(self, result)\u001b[0m\n\u001b[1;32m    127\u001b[0m \u001b[38;5;28;01mdef\u001b[39;00m \u001b[38;5;21mcompute_format_data\u001b[39m(\u001b[38;5;28mself\u001b[39m, result):\n\u001b[1;32m    128\u001b[0m \u001b[38;5;250m    \u001b[39m\u001b[38;5;124;03m\"\"\"Compute format data of the object to be displayed.\u001b[39;00m\n\u001b[1;32m    129\u001b[0m \n\u001b[1;32m    130\u001b[0m \u001b[38;5;124;03m    The format data is a generalization of the :func:`repr` of an object.\u001b[39;00m\n\u001b[0;32m   (...)\u001b[0m\n\u001b[1;32m    155\u001b[0m \n\u001b[1;32m    156\u001b[0m \u001b[38;5;124;03m    \"\"\"\u001b[39;00m\n\u001b[0;32m--> 157\u001b[0m     \u001b[38;5;28;01mreturn\u001b[39;00m \u001b[38;5;28;43mself\u001b[39;49m\u001b[38;5;241;43m.\u001b[39;49m\u001b[43mshell\u001b[49m\u001b[38;5;241;43m.\u001b[39;49m\u001b[43mdisplay_formatter\u001b[49m\u001b[38;5;241;43m.\u001b[39;49m\u001b[43mformat\u001b[49m\u001b[43m(\u001b[49m\u001b[43mresult\u001b[49m\u001b[43m)\u001b[49m\n",
      "File \u001b[0;32m~/.conda/envs/mypy311/lib/python3.11/site-packages/IPython/core/formatters.py:182\u001b[0m, in \u001b[0;36mDisplayFormatter.format\u001b[0;34m(self, obj, include, exclude)\u001b[0m\n\u001b[1;32m    180\u001b[0m md \u001b[38;5;241m=\u001b[39m \u001b[38;5;28;01mNone\u001b[39;00m\n\u001b[1;32m    181\u001b[0m \u001b[38;5;28;01mtry\u001b[39;00m:\n\u001b[0;32m--> 182\u001b[0m     data \u001b[38;5;241m=\u001b[39m \u001b[43mformatter\u001b[49m\u001b[43m(\u001b[49m\u001b[43mobj\u001b[49m\u001b[43m)\u001b[49m\n\u001b[1;32m    183\u001b[0m \u001b[38;5;28;01mexcept\u001b[39;00m:\n\u001b[1;32m    184\u001b[0m     \u001b[38;5;66;03m# FIXME: log the exception\u001b[39;00m\n\u001b[1;32m    185\u001b[0m     \u001b[38;5;28;01mraise\u001b[39;00m\n",
      "File \u001b[0;32m~/.conda/envs/mypy311/lib/python3.11/site-packages/decorator.py:232\u001b[0m, in \u001b[0;36mdecorate.<locals>.fun\u001b[0;34m(*args, **kw)\u001b[0m\n\u001b[1;32m    230\u001b[0m \u001b[38;5;28;01mif\u001b[39;00m \u001b[38;5;129;01mnot\u001b[39;00m kwsyntax:\n\u001b[1;32m    231\u001b[0m     args, kw \u001b[38;5;241m=\u001b[39m fix(args, kw, sig)\n\u001b[0;32m--> 232\u001b[0m \u001b[38;5;28;01mreturn\u001b[39;00m \u001b[43mcaller\u001b[49m\u001b[43m(\u001b[49m\u001b[43mfunc\u001b[49m\u001b[43m,\u001b[49m\u001b[43m \u001b[49m\u001b[38;5;241;43m*\u001b[39;49m\u001b[43m(\u001b[49m\u001b[43mextras\u001b[49m\u001b[43m \u001b[49m\u001b[38;5;241;43m+\u001b[39;49m\u001b[43m \u001b[49m\u001b[43margs\u001b[49m\u001b[43m)\u001b[49m\u001b[43m,\u001b[49m\u001b[43m \u001b[49m\u001b[38;5;241;43m*\u001b[39;49m\u001b[38;5;241;43m*\u001b[39;49m\u001b[43mkw\u001b[49m\u001b[43m)\u001b[49m\n",
      "File \u001b[0;32m~/.conda/envs/mypy311/lib/python3.11/site-packages/IPython/core/formatters.py:226\u001b[0m, in \u001b[0;36mcatch_format_error\u001b[0;34m(method, self, *args, **kwargs)\u001b[0m\n\u001b[1;32m    224\u001b[0m \u001b[38;5;250m\u001b[39m\u001b[38;5;124;03m\"\"\"show traceback on failed format call\"\"\"\u001b[39;00m\n\u001b[1;32m    225\u001b[0m \u001b[38;5;28;01mtry\u001b[39;00m:\n\u001b[0;32m--> 226\u001b[0m     r \u001b[38;5;241m=\u001b[39m \u001b[43mmethod\u001b[49m\u001b[43m(\u001b[49m\u001b[38;5;28;43mself\u001b[39;49m\u001b[43m,\u001b[49m\u001b[43m \u001b[49m\u001b[38;5;241;43m*\u001b[39;49m\u001b[43margs\u001b[49m\u001b[43m,\u001b[49m\u001b[43m \u001b[49m\u001b[38;5;241;43m*\u001b[39;49m\u001b[38;5;241;43m*\u001b[39;49m\u001b[43mkwargs\u001b[49m\u001b[43m)\u001b[49m\n\u001b[1;32m    227\u001b[0m \u001b[38;5;28;01mexcept\u001b[39;00m \u001b[38;5;167;01mNotImplementedError\u001b[39;00m:\n\u001b[1;32m    228\u001b[0m     \u001b[38;5;66;03m# don't warn on NotImplementedErrors\u001b[39;00m\n\u001b[1;32m    229\u001b[0m     \u001b[38;5;28;01mreturn\u001b[39;00m \u001b[38;5;28mself\u001b[39m\u001b[38;5;241m.\u001b[39m_check_return(\u001b[38;5;28;01mNone\u001b[39;00m, args[\u001b[38;5;241m0\u001b[39m])\n",
      "File \u001b[0;32m~/.conda/envs/mypy311/lib/python3.11/site-packages/IPython/core/formatters.py:345\u001b[0m, in \u001b[0;36mBaseFormatter.__call__\u001b[0;34m(self, obj)\u001b[0m\n\u001b[1;32m    343\u001b[0m     \u001b[38;5;28;01mreturn\u001b[39;00m printer(obj)\n\u001b[1;32m    344\u001b[0m \u001b[38;5;66;03m# Finally look for special method names\u001b[39;00m\n\u001b[0;32m--> 345\u001b[0m method \u001b[38;5;241m=\u001b[39m \u001b[43mget_real_method\u001b[49m\u001b[43m(\u001b[49m\u001b[43mobj\u001b[49m\u001b[43m,\u001b[49m\u001b[43m \u001b[49m\u001b[38;5;28;43mself\u001b[39;49m\u001b[38;5;241;43m.\u001b[39;49m\u001b[43mprint_method\u001b[49m\u001b[43m)\u001b[49m\n\u001b[1;32m    346\u001b[0m \u001b[38;5;28;01mif\u001b[39;00m method \u001b[38;5;129;01mis\u001b[39;00m \u001b[38;5;129;01mnot\u001b[39;00m \u001b[38;5;28;01mNone\u001b[39;00m:\n\u001b[1;32m    347\u001b[0m     \u001b[38;5;28;01mreturn\u001b[39;00m method()\n",
      "File \u001b[0;32m~/.conda/envs/mypy311/lib/python3.11/site-packages/IPython/utils/dir2.py:65\u001b[0m, in \u001b[0;36mget_real_method\u001b[0;34m(obj, name)\u001b[0m\n\u001b[1;32m     55\u001b[0m \u001b[38;5;250m\u001b[39m\u001b[38;5;124;03m\"\"\"Like getattr, but with a few extra sanity checks:\u001b[39;00m\n\u001b[1;32m     56\u001b[0m \n\u001b[1;32m     57\u001b[0m \u001b[38;5;124;03m- If obj is a class, ignore everything except class methods\u001b[39;00m\n\u001b[0;32m   (...)\u001b[0m\n\u001b[1;32m     62\u001b[0m \u001b[38;5;124;03mReturns the method or None.\u001b[39;00m\n\u001b[1;32m     63\u001b[0m \u001b[38;5;124;03m\"\"\"\u001b[39;00m\n\u001b[1;32m     64\u001b[0m \u001b[38;5;28;01mtry\u001b[39;00m:\n\u001b[0;32m---> 65\u001b[0m     canary \u001b[38;5;241m=\u001b[39m \u001b[38;5;28mgetattr\u001b[39m(obj, \u001b[38;5;124m'\u001b[39m\u001b[38;5;124m_ipython_canary_method_should_not_exist_\u001b[39m\u001b[38;5;124m'\u001b[39m, \u001b[38;5;28;01mNone\u001b[39;00m)\n\u001b[1;32m     66\u001b[0m \u001b[38;5;28;01mexcept\u001b[39;00m \u001b[38;5;167;01mException\u001b[39;00m:\n\u001b[1;32m     67\u001b[0m     \u001b[38;5;28;01mreturn\u001b[39;00m \u001b[38;5;28;01mNone\u001b[39;00m\n",
      "File \u001b[0;32m~/.conda/envs/mypy311/lib/python3.11/site-packages/cortex/webgl/serve.py:343\u001b[0m, in \u001b[0;36mJSProxy.__getattr__\u001b[0;34m(self, attr)\u001b[0m\n\u001b[1;32m    341\u001b[0m attrs \u001b[38;5;241m=\u001b[39m \u001b[38;5;28mself\u001b[39m\u001b[38;5;241m.\u001b[39mattrs\n\u001b[1;32m    342\u001b[0m \u001b[38;5;28;01mwhile\u001b[39;00m attr \u001b[38;5;129;01mnot\u001b[39;00m \u001b[38;5;129;01min\u001b[39;00m attrs \u001b[38;5;129;01mand\u001b[39;00m time\u001b[38;5;241m.\u001b[39mtime() \u001b[38;5;241m-\u001b[39m tstart \u001b[38;5;241m<\u001b[39m \u001b[38;5;28mself\u001b[39m\u001b[38;5;241m.\u001b[39mmax_time_retry:\n\u001b[0;32m--> 343\u001b[0m     \u001b[43mtime\u001b[49m\u001b[38;5;241;43m.\u001b[39;49m\u001b[43msleep\u001b[49m\u001b[43m(\u001b[49m\u001b[38;5;241;43m0.1\u001b[39;49m\u001b[43m)\u001b[49m\n\u001b[1;32m    344\u001b[0m     attrs \u001b[38;5;241m=\u001b[39m \u001b[38;5;28mself\u001b[39m\u001b[38;5;241m.\u001b[39mattrs\n\u001b[1;32m    345\u001b[0m \u001b[38;5;28;01mif\u001b[39;00m attr \u001b[38;5;129;01mnot\u001b[39;00m \u001b[38;5;129;01min\u001b[39;00m attrs:\n",
      "\u001b[0;31mKeyboardInterrupt\u001b[0m: "
     ]
    }
   ],
   "source": [
    "# We can visualize the imported subject's T1-weighted image\n",
    "anat_nifti = f'{subject}_{suffix}_desc-preproc_T1w.nii.gz'\n",
    "t1_image_path = op.join(source_dir, anat_nifti)\n",
    "\n",
    "# Now we can make a volume using the built-in identity transform\n",
    "t1w_volume = cortex.Volume(t1_image_path, subject_id, 'identity')\n",
    "\n",
    "# And show the result.\n",
    "ds = cortex.Dataset(t1w=t1w_volume)\n",
    "cortex.webgl.show(ds)"
   ]
  },
  {
   "cell_type": "code",
   "execution_count": 5,
   "metadata": {
    "pycharm": {
     "name": "#%%\n"
    }
   },
   "outputs": [
    {
     "name": "stdout",
     "output_type": "stream",
     "text": [
      "b'created by bittencourt on Tue Mar 26 08:48:14 2024\\n'\n",
      "b'created by bittencourt on Tue Mar 26 11:31:29 2024\\n'\n",
      "b'created by bittencourt on Tue Mar 26 08:48:14 2024\\n'\n",
      "b'created by bittencourt on Tue Mar 26 13:37:03 2024\\n'\n",
      "b'created by bittencourt on Tue Mar 26 08:48:14 2024\\n'\n",
      "b'created by bittencourt on Tue Mar 26 08:48:14 2024\\n'\n",
      "b'created by bittencourt on Tue Mar 26 11:31:29 2024\\n'\n",
      "b'created by bittencourt on Tue Mar 26 13:37:03 2024\\n'\n",
      "b'created by bittencourt on Tue Mar 26 08:48:40 2024\\n'\n",
      "b'created by bittencourt on Tue Mar 26 08:48:36 2024\\n'\n"
     ]
    }
   ],
   "source": [
    "#jupyter notebook /Users/mayra/PycharmProjects/Github/marcus_prfpy_tutorial/import_fmriprepsubj.ipynb\n",
    "cortex.freesurfer.import_subj(f'sub-{subject_id}',freesurfer_subject_dir=f'{DERIV_PATH}/freesurfer')"
   ]
  },
  {
   "cell_type": "code",
   "execution_count": 6,
   "metadata": {
    "pycharm": {
     "name": "#%%\n"
    }
   },
   "outputs": [
    {
     "data": {
      "text/plain": [
       "'/home/bittencourt/.conda/envs/mypy311/share/pycortex/db//sub-001/surfaces/fiducial_rh.gii'"
      ]
     },
     "execution_count": 6,
     "metadata": {},
     "output_type": "execute_result"
    }
   ],
   "source": [
    "import shutil\n",
    "shutil.copyfile(f'/home/bittencourt/.conda/envs/mypy311/share/pycortex/db/{subject_id}/surfaces/fiducial_lh.gii', f'/home/bittencourt/.conda/envs/mypy311/share/pycortex/db/sub-{subject_id}/surfaces/fiducial_lh.gii')\n",
    "shutil.copyfile(f'/home/bittencourt/.conda/envs/mypy311/share/pycortex/db/{subject_id}/surfaces/fiducial_rh.gii', f'/home/bittencourt/.conda/envs/mypy311/share/pycortex/db//sub-{subject_id}/surfaces/fiducial_rh.gii')"
   ]
  },
  {
   "cell_type": "code",
   "execution_count": 33,
   "metadata": {},
   "outputs": [],
   "source": [
    "#shutil.rmtree(f'/home/bittencourt/.conda/envs/mypy311/share/pycortex/db/{subject_id}',ignore_errors=True)\n",
    "shutil.rmtree(temp_dir)"
   ]
  }
 ],
 "metadata": {
  "kernelspec": {
   "display_name": "Python 3 (ipykernel)",
   "language": "python",
   "name": "python3"
  },
  "language_info": {
   "codemirror_mode": {
    "name": "ipython",
    "version": 3
   },
   "file_extension": ".py",
   "mimetype": "text/x-python",
   "name": "python",
   "nbconvert_exporter": "python",
   "pygments_lexer": "ipython3",
   "version": "3.11.5"
  }
 },
 "nbformat": 4,
 "nbformat_minor": 1
}
