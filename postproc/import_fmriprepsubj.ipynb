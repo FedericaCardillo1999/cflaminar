{
 "cells": [
  {
   "cell_type": "code",
   "execution_count": 1,
   "metadata": {
    "pycharm": {
     "name": "#%%\n"
    }
   },
   "outputs": [],
   "source": [
    "import cortex\n",
    "from cortex import fmriprep\n",
    "from os import path as op\n",
    "\n",
    "# Location of the downloaded openfmri dataset\n",
    "source_directory = '/Users/mayra/Library/CloudStorage/OneDrive-UMCG/Postdoc/CFLamUp/derivatives/'\n",
    "# fmriprep subject name (without \"sub-\")\n",
    "subject_id = '001'\n"
   ]
  },
  {
   "cell_type": "code",
   "execution_count": 2,
   "metadata": {
    "pycharm": {
     "name": "#%%\n"
    }
   },
   "outputs": [],
   "source": [
    "# export FREESURFER_HOME=/Applications/freesurfer/7.2.0\n",
    "# export SUBJECTS_DIR=/Users/mayra/Library/CloudStorage/OneDrive-UMCG/Postdoc/CFLamUp/derivatives/freesurfer\n",
    "# export FS_LICENSE=/Applications/freesurfer/7.2.0/license.txt\n",
    "# source $FREESURFER_HOME/SetUpFreeSurfer.sh"
   ]
  },
  {
   "cell_type": "code",
   "execution_count": 3,
   "metadata": {
    "pycharm": {
     "name": "#%%\n"
    }
   },
   "outputs": [
    {
     "name": "stdout",
     "output_type": "stream",
     "text": [
      "Are you sure you want to overwrite this existing subject?\n",
      "This will delete all files for this subject in the filestore, including all blender cuts. Type YES\n",
      "YES\n"
     ]
    }
   ],
   "source": [
    "# import subject into pycortex database\n",
    "fmriprep.import_subj(subject_id, source_directory)\n"
   ]
  },
  {
   "cell_type": "code",
   "execution_count": 6,
   "metadata": {
    "pycharm": {
     "name": "#%%\n"
    }
   },
   "outputs": [
    {
     "name": "stdout",
     "output_type": "stream",
     "text": [
      "Generating new ctm file...\n",
      "wm\n",
      "wm\n",
      "inflated\n",
      "inflated\n",
      "Started server on port 31939\n",
      "Stopping server\n"
     ]
    },
    {
     "data": {
      "text/plain": [
       "<JS: window.viewer>"
      ]
     },
     "execution_count": 6,
     "metadata": {},
     "output_type": "execute_result"
    }
   ],
   "source": [
    "# We can visualize the imported subject's T1-weighted image\n",
    "anat_nifti = f'fmriprep/sub-{subject_id}/anat/sub-{subject_id}_desc-preproc_T1w.nii.gz'\n",
    "t1_image_path = op.join(source_directory, anat_nifti)\n",
    "\n",
    "# Now we can make a volume using the built-in identity transform\n",
    "t1w_volume = cortex.Volume(t1_image_path, subject_id, 'identity')\n",
    "\n",
    "# And show the result.\n",
    "ds = cortex.Dataset(t1w=t1w_volume)\n",
    "cortex.webgl.show(ds)"
   ]
  },
  {
   "cell_type": "code",
   "execution_count": 4,
   "metadata": {
    "pycharm": {
     "name": "#%%\n"
    }
   },
   "outputs": [
    {
     "name": "stdout",
     "output_type": "stream",
     "text": [
      "Are you sure you want to overwrite this existing subject?\n",
      "This will delete all files for this subject in the filestore, including all blender cuts. Type YES\n",
      "YES\n",
      "b'created by bittencourt on Tue Mar 26 08:48:14 2024\\n'\n",
      "b'created by bittencourt on Tue Mar 26 11:31:29 2024\\n'\n",
      "b'created by bittencourt on Tue Mar 26 08:48:14 2024\\n'\n",
      "b'created by bittencourt on Tue Mar 26 13:37:03 2024\\n'\n",
      "b'created by bittencourt on Tue Mar 26 08:48:14 2024\\n'\n",
      "b'created by bittencourt on Tue Mar 26 08:48:14 2024\\n'\n",
      "b'created by bittencourt on Tue Mar 26 11:31:29 2024\\n'\n",
      "b'created by bittencourt on Tue Mar 26 13:37:03 2024\\n'\n",
      "b'created by bittencourt on Tue Mar 26 08:48:40 2024\\n'\n",
      "b'created by bittencourt on Tue Mar 26 08:48:36 2024\\n'\n"
     ]
    }
   ],
   "source": [
    "#jupyter notebook /Users/mayra/PycharmProjects/Github/marcus_prfpy_tutorial/import_fmriprepsubj.ipynb\n",
    "cortex.freesurfer.import_subj(f'sub-{subject_id}',freesurfer_subject_dir='/Users/mayra/Library/CloudStorage/OneDrive-UMCG/Postdoc/CFLamUp/derivatives/freesurfer')"
   ]
  },
  {
   "cell_type": "code",
   "execution_count": 5,
   "metadata": {
    "pycharm": {
     "name": "#%%\n"
    }
   },
   "outputs": [
    {
     "data": {
      "text/plain": [
       "'/Users/mayra/opt/anaconda3/share/pycortex/db/sub-001/surfaces/fiducial_rh.gii'"
      ]
     },
     "execution_count": 5,
     "metadata": {},
     "output_type": "execute_result"
    }
   ],
   "source": [
    "import shutil\n",
    "shutil.copyfile(f'/Users/mayra/opt/anaconda3/share/pycortex/db/{subject_id}/surfaces/fiducial_lh.gii', f'/Users/mayra/opt/anaconda3/share/pycortex/db/sub-{subject_id}/surfaces/fiducial_lh.gii')\n",
    "shutil.copyfile(f'/Users/mayra/opt/anaconda3/share/pycortex/db/{subject_id}/surfaces/fiducial_rh.gii', f'/Users/mayra/opt/anaconda3/share/pycortex/db/sub-{subject_id}/surfaces/fiducial_rh.gii')"
   ]
  },
  {
   "cell_type": "code",
   "execution_count": null,
   "metadata": {},
   "outputs": [],
   "source": []
  }
 ],
 "metadata": {
  "kernelspec": {
   "display_name": "Python 3 (ipykernel)",
   "language": "python",
   "name": "python3"
  },
  "language_info": {
   "codemirror_mode": {
    "name": "ipython",
    "version": 3
   },
   "file_extension": ".py",
   "mimetype": "text/x-python",
   "name": "python",
   "nbconvert_exporter": "python",
   "pygments_lexer": "ipython3",
   "version": "3.9.7"
  }
 },
 "nbformat": 4,
 "nbformat_minor": 1
}
